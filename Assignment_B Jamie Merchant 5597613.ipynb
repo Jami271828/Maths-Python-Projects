{
 "cells": [
  {
   "cell_type": "markdown",
   "metadata": {},
   "source": [
    "## MA124 Homework Assignment B\n",
    "### Due in by 1200 on Monday 9th December 2024\n",
    "#### Submission\n",
    "Hand in is via the [MA124 Moodle page](https://moodle.warwick.ac.uk/mod/assign/view.php?id=2411198).\n",
    "\n",
    "The hand-in link will be available from Monday 25th November.\n",
    "\n",
    "You should submit **this Jupyter notebook only**. **This must be a `.ipynb` file, not a pdf file or any other file type**. **You may use `numpy` in your code for this assignment but no other library. There are no additional marks based on overall quality and clarity of the submission.**\n",
    "\n",
    "You may wish to comment your code but you will not lose marks for not doing so. Note that you will be expected to comment your code for the project next term so you may wish to have a go at this now.\n",
    "\n",
    "The last thing you should do before submitting the notebook is to Restart Kernel and Run All Cells. You should then save the notebook and submit the .ipynb file. **You will lose one mark if you submit a notebook that has not been run.**\n",
    "\n",
    "**The usual submission rules and those rules stated at the end of this document apply. In particular, the noon deadline is strict. You should not wait until the very last moment to submit your work and you should make sure that you submit the correct work.**\n",
    "\n",
    "**Note that, in line with university policy, you must declare the use of a generative Artificial Intelligence such as ChatGPT in your submission, including your reason for using it. If you do this please include any such declaration in markdown cells. You risk losing marks for using a generative Artificial Intelligence, depending on your reasons for doing so, and this will be judged on a case by case basis.**\n",
    "\n"
   ]
  },
  {
   "cell_type": "markdown",
   "metadata": {},
   "source": [
    "---\n",
    "### Task 1 Analysis (4 marks)\n",
    "\n",
    "Let $f:(0,1) \\rightarrow \\mathbb{R}$ be defined by $$f(x)=\\left\\{\\begin{array}{lr}\n",
    "       \\displaystyle\\frac{1}{q} & \\text{if } x\\in\\mathbb{Q}\\ x = \\displaystyle\\frac{p}{q}\\ p,q\\in\\mathbb{Z}, q>0, \\text{ hcf}(p,q)=1.\\ \\\\\n",
    "        0 & \\text{if } x\\not\\in\\mathbb{Q}\n",
    "        \\end{array}\\right. \\text{.}$$\n",
    "This function is known at the **Thomae Function**. This function is continuous at $c$ whenever $0<c<1$ is irrational. Essentially this is because, for a given $\\epsilon>0$ there will only be finitely many values of $x$ with $0<x<1$ and $|f(x)-f(c)|\\geq \\epsilon$, so the $\\delta$ can be chosen so that these values are avoided in the proximity of $c$ for a given $\\epsilon$. You will write code to show this.\n",
    "\n",
    "**Specifically, your could should**\n",
    "\n",
    "- Include a function `higher` which takes in a postive float $e$ between with $0<e<1$ and returns the number of values $x\\in(0,1)$ with $f(x)\\geq e$.\n",
    "- Uses the function `higher` to print the number of values $x\\in(0,1)$ with $f(x)\\geq e$ for each of $e = 0.5,0.25,0.125$, with appropriate text to describe which is which.\n",
    "\n",
    "*Insert code cell(s) below in which to complete this task.*\n"
   ]
  },
  {
   "cell_type": "code",
   "execution_count": 3,
   "metadata": {},
   "outputs": [
    {
     "name": "stdout",
     "output_type": "stream",
     "text": [
      "For e = 0.5 we have 1 possible value of x. For e = 0.25 we have 5 possible values of x. For e = 0.125 we have 21 possible values of x.\n"
     ]
    }
   ],
   "source": [
    "import numpy as np\n",
    "\n",
    "def higher(e):\n",
    "    if e <= 0 or e>= 1:\n",
    "        return(\"Value error. Please enter a value 0<e<1\")\n",
    "    else:\n",
    "        max_q = int(1/e)\n",
    "        count = 0\n",
    "        for q in range(1,max_q + 1):\n",
    "            for p in range (1,q):\n",
    "                if np.gcd(p,q) == 1:\n",
    "                    count = count + 1\n",
    "        return count\n",
    "print(\"For e = 0.5 we have\",higher(0.5),\"possible value of x. For e = 0.25 we have\",higher(0.25),\"possible values of x. For e = 0.125 we have\",higher(0.125),\"possible values of x.\")"
   ]
  },
  {
   "cell_type": "markdown",
   "metadata": {},
   "source": [
    "---\n",
    "### Task 2 Analysis (4 marks)\n",
    "\n",
    "This task is about the series\n",
    "\n",
    "$$\\sum_{n=1}^{\\infty}(-1)^{n+1}\\frac{1}{n}$$ which converges by the Alternating Series test.\n",
    "\n",
    "We can see that this is the same series as the one for $\\ln(1+x)$ evaluated at $x=1$. So its sum is $\\ln(2)$.\n",
    "\n",
    "Let $$S_n=\\sum_{i=1}^{n}(-1)^{i+1}\\frac{1}{i}$$ be the $n^{\\text{th}}$ partial sum for this series. Here you will explore the how many terms are needed in a partial sum to get a value within a given distance of $\\ln(2)$.\n",
    "\n",
    "**Specifically, your could should**\n",
    "\n",
    "- Include a function `howfar` which takes in a positive float $e$ and returns the smallest positive integer $N$ such that $|S_N-\\ln(2)|<e$\n",
    "- Uses the function `howfar` to print the smallest positive integer $N$ such that $|S_N-\\ln(2)|<e$ for each of $e=0.1,0.01,0.001$ with appropriate text to describe which value of $N$ relates to which value of $e$.\n",
    "\n",
    "*Insert code cell(s) below in which to complete this task.*"
   ]
  },
  {
   "cell_type": "code",
   "execution_count": 5,
   "metadata": {},
   "outputs": [
    {
     "name": "stdout",
     "output_type": "stream",
     "text": [
      "For e = 0.1 minimum N is 5 , for e = 0.01 minimum N is 50 , for e = 0.001 minimum N is 500\n"
     ]
    }
   ],
   "source": [
    "import numpy as np\n",
    "\n",
    "def S(n):\n",
    "    sum = 0\n",
    "    for i in range(1,n+1):\n",
    "        sum = sum + ((-1)**(i+1))*(1/i)\n",
    "    return sum\n",
    "\n",
    "def howfar(e):\n",
    "    N = 1\n",
    "    while np.abs(S(N) - np.log(2)) >= e:\n",
    "        N = N + 1\n",
    "    return N\n",
    "print(\"For e = 0.1 minimum N is\",howfar(0.1),\", for e = 0.01 minimum N is\",howfar(0.01),\", for e = 0.001 minimum N is\",howfar(0.001))"
   ]
  },
  {
   "cell_type": "markdown",
   "metadata": {},
   "source": [
    "---\n",
    "### Task 3 Foundations (6 marks)\n",
    "Fermat's little theorem states that if $p$ is prime and the integer $a$ satisfies $\\gcd(a,p)=1$ (or equivalently $a$ is not a multiple of $p$) then\n",
    "\n",
    "$$a^{p-1}\\equiv 1 \\pmod p.$$\n",
    "\n",
    "It is possible to find non-prime integers $n>1$ such that\n",
    "\n",
    "$$a^{n-1}\\equiv 1 \\pmod n$$ \n",
    "\n",
    "for all integers $a$ with $\\gcd(a,n)=1$. \n",
    "\n",
    "So, in respect of Fermat's little theorem, these integers behave as if they are prime but they are not actually prime! These are called **Carmichael numbers**, named after American mathematician, Robert Daniel Carmichael.\n",
    "\n",
    "In his 1909 paper Carmichael identified four Carmichael numbers, namely $561,1105,2821, 15841$ (by inspection!). This list does not include ALL the Carmichael numbers between $2$ and $2821$ inclusive. In this task you will write code to find the missing numbers in this range.\n",
    "\n",
    "**Specifically, your code should**\n",
    "\n",
    "- Include a function `carmichael` which takes in an integer $n>1$ and returns `True` if $n$ is a Carmichael number and `False` otherwise.\n",
    "\n",
    "- Use `carmichael` to print a complete list of all the Carmichael numbers between $2$ and $2821$ inclusive. \n",
    "\n",
    "Note that even relatively efficient code may take in the order of tens of seconds to find the list so be prepared for this.\n",
    "\n",
    "*Insert code cell(s) below in which to complete this task.*\n"
   ]
  },
  {
   "cell_type": "code",
   "execution_count": 7,
   "metadata": {},
   "outputs": [
    {
     "name": "stdout",
     "output_type": "stream",
     "text": [
      "This is a complete list of the Carmichael numbers from 2 to 2822 inclusive:\n",
      "561\n",
      "1105\n",
      "1729\n",
      "2465\n",
      "2821\n"
     ]
    }
   ],
   "source": [
    "import numpy as np\n",
    "\n",
    "def isprime(k):\n",
    "    if k <= 1:\n",
    "        return False\n",
    "    for i in range(2,int((k**0.5)+1)):\n",
    "        if k%i == 0:\n",
    "            return False\n",
    "    return True\n",
    "    \n",
    "def carmichael(n):\n",
    "    if n<2:\n",
    "        return(\"Value error. Please enter an integer n>1\")\n",
    "    if isprime(n) == True:\n",
    "        return False\n",
    "    for a in range(2,n):\n",
    "        if np.gcd(a,n) == 1:\n",
    "            if pow(a,n-1,n) != 1:\n",
    "                return False\n",
    "    return True\n",
    "\n",
    "print(\"This is a complete list of the Carmichael numbers from 2 to 2822 inclusive:\")\n",
    "for i in range(2,2822):\n",
    "    if carmichael(i) == True:\n",
    "        print(i)"
   ]
  },
  {
   "cell_type": "markdown",
   "metadata": {},
   "source": [
    "---\n",
    "\n",
    "### Task 4 Algebra (6 marks)\n",
    "\n",
    "Here you will write a function which takes in an integer $n>1$ and returns `True` if the unit group of the integers modulo $n$, denoted $(\\mathbb{Z}/n\\mathbb{Z})^*$ in the MA151 notes, is cyclic and `False` if not.\n",
    "\n",
    "You can take a variety of approaches to this. For example, you could write your own code to find the number of elements in $(\\mathbb{Z}/n\\mathbb{Z})^*$ from \"first principles\" or you could make use of commands in `numpy`. \n",
    "\n",
    "**Specifically, your code should**\n",
    "- Include a function `order` which takes in an integer $n>1$ and and integer $m$ between $0$ and $n-1$ inclusive and if $[m]_n\\in (\\mathbb{Z}/n\\mathbb{Z})^*$ then its order as an element of $(\\mathbb{Z}/n\\mathbb{Z})^*$ is returned, otherwise $0$ is returned.\n",
    "\n",
    "- Include a function `iszncyclic` which takes in an integer $n>1$ and, making use of `order` returns, `True` if the unit group of the integers modulo $n$, denoted $(\\mathbb{Z}/n\\mathbb{Z})^*$ in the MA151 notes, is cyclic and `False` if not.\n",
    "\n",
    "- Use the function `iszncyclic` to print a list of all the values of $n$ between $2$ and $50$ inclusive for which $(\\mathbb{Z}/n\\mathbb{Z})^*$ is a cyclic group.\n",
    "\n",
    "*Insert code cell(s) below in which to complete this task.*"
   ]
  },
  {
   "cell_type": "code",
   "execution_count": 9,
   "metadata": {},
   "outputs": [
    {
     "name": "stdout",
     "output_type": "stream",
     "text": [
      "2\n",
      "3\n",
      "4\n",
      "5\n",
      "6\n",
      "7\n",
      "9\n",
      "10\n",
      "11\n",
      "13\n",
      "14\n",
      "17\n",
      "18\n",
      "19\n",
      "22\n",
      "23\n",
      "25\n",
      "26\n",
      "27\n",
      "29\n",
      "31\n",
      "34\n",
      "37\n",
      "38\n",
      "41\n",
      "43\n",
      "46\n",
      "47\n",
      "49\n",
      "50\n"
     ]
    }
   ],
   "source": [
    "import numpy as np\n",
    "\n",
    "def order(n,m):\n",
    "    if np.gcd(m,n) != 1:\n",
    "        return 0\n",
    "    k = 1\n",
    "    while pow(m,k,n) !=1:\n",
    "        k = k+1\n",
    "    return k\n",
    "\n",
    "def iszncyclic(n):\n",
    "    elements = [i for i in range(1,n) if np.gcd(i,n) ==1]\n",
    "    for i in elements:\n",
    "        if order(n,i) == len(elements):\n",
    "            return True\n",
    "    return False\n",
    "\n",
    "for z in range(2,51):\n",
    "    if iszncyclic(z) == True:\n",
    "        print(z)"
   ]
  },
  {
   "cell_type": "code",
   "execution_count": null,
   "metadata": {},
   "outputs": [],
   "source": []
  }
 ],
 "metadata": {
  "kernelspec": {
   "display_name": "Python 3 (ipykernel)",
   "language": "python",
   "name": "python3"
  },
  "language_info": {
   "codemirror_mode": {
    "name": "ipython",
    "version": 3
   },
   "file_extension": ".py",
   "mimetype": "text/x-python",
   "name": "python",
   "nbconvert_exporter": "python",
   "pygments_lexer": "ipython3",
   "version": "3.12.4"
  }
 },
 "nbformat": 4,
 "nbformat_minor": 4
}
